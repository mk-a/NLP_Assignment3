{
  "nbformat": 4,
  "nbformat_minor": 0,
  "metadata": {
    "kernelspec": {
      "display_name": "Python 3",
      "language": "python",
      "name": "python3"
    },
    "language_info": {
      "codemirror_mode": {
        "name": "ipython",
        "version": 3
      },
      "file_extension": ".py",
      "mimetype": "text/x-python",
      "name": "python",
      "nbconvert_exporter": "python",
      "pygments_lexer": "ipython3",
      "version": "3.7.3"
    },
    "colab": {
      "name": "TP3.ipynb",
      "provenance": []
    }
  },
  "cells": [
    {
      "cell_type": "code",
      "metadata": {
        "id": "5KEPJeWLwoPr",
        "colab_type": "code",
        "colab": {
          "base_uri": "https://localhost:8080/",
          "height": 69
        },
        "outputId": "d6897668-9226-4838-fe81-14d6ed644fd4"
      },
      "source": [
        "import pandas as pd, numpy as np, gensim, pickle, spacy, urllib.request\n",
        "import nltk.tokenize\n",
        "nltk.download('punkt')"
      ],
      "execution_count": 1,
      "outputs": [
        {
          "output_type": "stream",
          "text": [
            "[nltk_data] Downloading package punkt to /root/nltk_data...\n",
            "[nltk_data]   Unzipping tokenizers/punkt.zip.\n"
          ],
          "name": "stdout"
        },
        {
          "output_type": "execute_result",
          "data": {
            "text/plain": [
              "True"
            ]
          },
          "metadata": {
            "tags": []
          },
          "execution_count": 1
        }
      ]
    },
    {
      "cell_type": "code",
      "metadata": {
        "id": "6FAbzx2n--uf",
        "colab_type": "code",
        "colab": {
          "base_uri": "https://localhost:8080/",
          "height": 124
        },
        "outputId": "1f59cf59-97d0-4c3b-f4b4-5f0132c14a58"
      },
      "source": [
        "from google.colab import drive\n",
        "drive.mount('/content/drive')"
      ],
      "execution_count": 2,
      "outputs": [
        {
          "output_type": "stream",
          "text": [
            "Go to this URL in a browser: https://accounts.google.com/o/oauth2/auth?client_id=947318989803-6bn6qk8qdgf4n4g3pfee6491hc0brc4i.apps.googleusercontent.com&redirect_uri=urn%3aietf%3awg%3aoauth%3a2.0%3aoob&response_type=code&scope=email%20https%3a%2f%2fwww.googleapis.com%2fauth%2fdocs.test%20https%3a%2f%2fwww.googleapis.com%2fauth%2fdrive%20https%3a%2f%2fwww.googleapis.com%2fauth%2fdrive.photos.readonly%20https%3a%2f%2fwww.googleapis.com%2fauth%2fpeopleapi.readonly\n",
            "\n",
            "Enter your authorization code:\n",
            "··········\n",
            "Mounted at /content/drive\n"
          ],
          "name": "stdout"
        }
      ]
    },
    {
      "cell_type": "code",
      "metadata": {
        "id": "uTyMUJ3hwoQA",
        "colab_type": "code",
        "colab": {}
      },
      "source": [
        "class Corpus:\n",
        "    def __init__(self, path):\n",
        "        self.path = path\n",
        "    def __iter__(self):\n",
        "        i = 0\n",
        "        fp = open(self.path)\n",
        "        line = fp.readline()\n",
        "        while line:\n",
        "            yield line[:-1].split()\n",
        "            line = fp.readline()\n",
        "            i+=1\n",
        "        fp.close()"
      ],
      "execution_count": 0,
      "outputs": []
    },
    {
      "cell_type": "code",
      "metadata": {
        "id": "UiQV1Yql_PtR",
        "colab_type": "code",
        "colab": {}
      },
      "source": [
        "data = pd.read_pickle(\"/content/drive/My Drive/Colab Notebooks/IFT6285/train_post_preprocessed2.pkl\")"
      ],
      "execution_count": 0,
      "outputs": []
    },
    {
      "cell_type": "code",
      "metadata": {
        "id": "LKkBImo4_Yip",
        "colab_type": "code",
        "colab": {
          "base_uri": "https://localhost:8080/",
          "height": 424
        },
        "outputId": "4f975bf5-61e4-42d5-abf8-babe86bd6bb1"
      },
      "source": [
        "data"
      ],
      "execution_count": 43,
      "outputs": [
        {
          "output_type": "execute_result",
          "data": {
            "text/html": [
              "<div>\n",
              "<style scoped>\n",
              "    .dataframe tbody tr th:only-of-type {\n",
              "        vertical-align: middle;\n",
              "    }\n",
              "\n",
              "    .dataframe tbody tr th {\n",
              "        vertical-align: top;\n",
              "    }\n",
              "\n",
              "    .dataframe thead th {\n",
              "        text-align: right;\n",
              "    }\n",
              "</style>\n",
              "<table border=\"1\" class=\"dataframe\">\n",
              "  <thead>\n",
              "    <tr style=\"text-align: right;\">\n",
              "      <th></th>\n",
              "      <th>text</th>\n",
              "      <th>label</th>\n",
              "    </tr>\n",
              "  </thead>\n",
              "  <tbody>\n",
              "    <tr>\n",
              "      <th>0</th>\n",
              "      <td>[long, time, ..., i, have, been, busy, with, w...</td>\n",
              "      <td>0</td>\n",
              "    </tr>\n",
              "    <tr>\n",
              "      <th>1</th>\n",
              "      <td>[what, to, talk, about, ..., well, today, wa, ...</td>\n",
              "      <td>0</td>\n",
              "    </tr>\n",
              "    <tr>\n",
              "      <th>2</th>\n",
              "      <td>[just, some, stuff, which, animal, is, your, s...</td>\n",
              "      <td>0</td>\n",
              "    </tr>\n",
              "    <tr>\n",
              "      <th>3</th>\n",
              "      <td>[i, gots, a, job, now, ..., yesterday, i, star...</td>\n",
              "      <td>0</td>\n",
              "    </tr>\n",
              "    <tr>\n",
              "      <th>4</th>\n",
              "      <td>[movie, night, !, i, really, do, hate, friday,...</td>\n",
              "      <td>0</td>\n",
              "    </tr>\n",
              "    <tr>\n",
              "      <th>...</th>\n",
              "      <td>...</td>\n",
              "      <td>...</td>\n",
              "    </tr>\n",
              "    <tr>\n",
              "      <th>512624</th>\n",
              "      <td>[whenever, i, hear, my, band, warm, down, i, l...</td>\n",
              "      <td>1</td>\n",
              "    </tr>\n",
              "    <tr>\n",
              "      <th>512625</th>\n",
              "      <td>[well, since, the, last, entry, me, and, my, g...</td>\n",
              "      <td>1</td>\n",
              "    </tr>\n",
              "    <tr>\n",
              "      <th>512626</th>\n",
              "      <td>[sigh, well, tonight, me, and, my, girl, decid...</td>\n",
              "      <td>1</td>\n",
              "    </tr>\n",
              "    <tr>\n",
              "      <th>512627</th>\n",
              "      <td>[if, anyone, is, awake, and, acutally, reading...</td>\n",
              "      <td>1</td>\n",
              "    </tr>\n",
              "    <tr>\n",
              "      <th>512628</th>\n",
              "      <td>[so, ,, i, have, my, very, own, personal, blog...</td>\n",
              "      <td>1</td>\n",
              "    </tr>\n",
              "  </tbody>\n",
              "</table>\n",
              "<p>512629 rows × 2 columns</p>\n",
              "</div>"
            ],
            "text/plain": [
              "                                                     text  label\n",
              "0       [long, time, ..., i, have, been, busy, with, w...      0\n",
              "1       [what, to, talk, about, ..., well, today, wa, ...      0\n",
              "2       [just, some, stuff, which, animal, is, your, s...      0\n",
              "3       [i, gots, a, job, now, ..., yesterday, i, star...      0\n",
              "4       [movie, night, !, i, really, do, hate, friday,...      0\n",
              "...                                                   ...    ...\n",
              "512624  [whenever, i, hear, my, band, warm, down, i, l...      1\n",
              "512625  [well, since, the, last, entry, me, and, my, g...      1\n",
              "512626  [sigh, well, tonight, me, and, my, girl, decid...      1\n",
              "512627  [if, anyone, is, awake, and, acutally, reading...      1\n",
              "512628  [so, ,, i, have, my, very, own, personal, blog...      1\n",
              "\n",
              "[512629 rows x 2 columns]"
            ]
          },
          "metadata": {
            "tags": []
          },
          "execution_count": 43
        }
      ]
    },
    {
      "cell_type": "code",
      "metadata": {
        "id": "_dm5vp4awoQQ",
        "colab_type": "code",
        "colab": {}
      },
      "source": [
        "sentences = Corpus(\"data/preprocessed.txt\")"
      ],
      "execution_count": 0,
      "outputs": []
    },
    {
      "cell_type": "code",
      "metadata": {
        "id": "Q8hgpeEswoQc",
        "colab_type": "code",
        "colab": {
          "base_uri": "https://localhost:8080/",
          "height": 52
        },
        "outputId": "e1b091b2-de70-446d-8476-744ad4f5333d"
      },
      "source": [
        "%%time\n",
        "word2vec = gensim.models.Word2Vec(min_count=10,\n",
        "                                  sentences= data.text,\n",
        "                                 size=16,\n",
        "                                 workers=4)"
      ],
      "execution_count": 46,
      "outputs": [
        {
          "output_type": "stream",
          "text": [
            "CPU times: user 21min 25s, sys: 5.56 s, total: 21min 30s\n",
            "Wall time: 11min 10s\n"
          ],
          "name": "stdout"
        }
      ]
    },
    {
      "cell_type": "code",
      "metadata": {
        "id": "yMdfzxwUwoQs",
        "colab_type": "code",
        "colab": {}
      },
      "source": [
        "word2vec.wv.vocab"
      ],
      "execution_count": 0,
      "outputs": []
    },
    {
      "cell_type": "code",
      "metadata": {
        "id": "RHjE8-8twoRF",
        "colab_type": "code",
        "colab": {}
      },
      "source": [
        "fp = open(\"word2vec\", \"wb\")\n",
        "pickle.dump(word2vec, fp)\n",
        "fp.close()"
      ],
      "execution_count": 0,
      "outputs": []
    },
    {
      "cell_type": "code",
      "metadata": {
        "id": "3JCSq_R_woRO",
        "colab_type": "code",
        "colab": {}
      },
      "source": [
        "fp = open(\"/content/drive/My Drive/Colab Notebooks/IFT6285/word2vec_no_preprocess\", \"rb\")\n",
        "word2vec2 = pickle.load(fp)\n",
        "fp.close()"
      ],
      "execution_count": 0,
      "outputs": []
    },
    {
      "cell_type": "code",
      "metadata": {
        "id": "JKYRhVtko-Se",
        "colab_type": "code",
        "colab": {}
      },
      "source": [
        "url = 'http://www-labs.iro.umontreal.ca/~felipe/IFT6285-Automne2019/resources/tp2/train_posts.csv'\n",
        "response = urllib.request.urlopen(url)\n",
        "data = pd.read_csv(response, header=None)"
      ],
      "execution_count": 0,
      "outputs": []
    },
    {
      "cell_type": "code",
      "metadata": {
        "id": "7TR0UTLFv-Ud",
        "colab_type": "code",
        "colab": {}
      },
      "source": [
        "word2vec = gensim.models.Word2Vec(min_count=10,\n",
        "                                #   sentences= [s.split() for s in nltk.tokenize.sent_tokenize(data.values[0,0])],\n",
        "                                  sentences = nltk.tokenize.sent_tokenize(data.values[0,0]),\n",
        "                                 size=16,\n",
        "                                 workers=4)"
      ],
      "execution_count": 0,
      "outputs": []
    },
    {
      "cell_type": "code",
      "metadata": {
        "id": "mrFKtJiFt4kU",
        "colab_type": "code",
        "colab": {}
      },
      "source": [
        "class Sentence:\n",
        "    def __init__(self, posts):\n",
        "        self.posts = posts\n",
        "    \n",
        "    def __iter__(self):\n",
        "        for post in self.posts:\n",
        "            for sent in nltk.tokenize.sent_tokenize(post):\n",
        "                yield nltk.tokenize.word_tokenize(sent)"
      ],
      "execution_count": 0,
      "outputs": []
    },
    {
      "cell_type": "code",
      "metadata": {
        "id": "bYOeKk_UwCyz",
        "colab_type": "code",
        "colab": {}
      },
      "source": [
        "iter_sent = Sentence(data.values[:,0])"
      ],
      "execution_count": 0,
      "outputs": []
    },
    {
      "cell_type": "code",
      "metadata": {
        "id": "RxDm-HCywFHO",
        "colab_type": "code",
        "colab": {}
      },
      "source": [
        "word2vec = gensim.models.Word2Vec(  min_count=10,\n",
        "                                    sentences = iter_sent,\n",
        "                                    size=16,\n",
        "                                    workers=4)"
      ],
      "execution_count": 0,
      "outputs": []
    },
    {
      "cell_type": "code",
      "metadata": {
        "id": "qdc5zw43cLmy",
        "colab_type": "code",
        "colab": {}
      },
      "source": [
        "fp = open(\"/content/drive/My Drive/Colab Notebooks/IFT6285/TP3/word2vec_no_preprocess_10\", \"wb\")\n",
        "pickle.dump(word2vec, fp)\n",
        "fp.close()"
      ],
      "execution_count": 0,
      "outputs": []
    },
    {
      "cell_type": "code",
      "metadata": {
        "id": "YcRTHIOGNva8",
        "colab_type": "code",
        "colab": {
          "base_uri": "https://localhost:8080/",
          "height": 245
        },
        "outputId": "70440fc2-45bd-43ee-9a1e-36cc052f515a"
      },
      "source": [
        "word2vec.wv.most_similar(\"computer\", topn=10)\n",
        "# np.linalg.norm(word2vec.wv[\"salt\"]  word2vec.wv[\"sugar\"] )"
      ],
      "execution_count": 39,
      "outputs": [
        {
          "output_type": "stream",
          "text": [
            "/usr/local/lib/python3.6/dist-packages/gensim/matutils.py:737: FutureWarning: Conversion of the second argument of issubdtype from `int` to `np.signedinteger` is deprecated. In future, it will be treated as `np.int64 == np.dtype(int).type`.\n",
            "  if np.issubdtype(vec.dtype, np.int):\n"
          ],
          "name": "stderr"
        },
        {
          "output_type": "execute_result",
          "data": {
            "text/plain": [
              "[('laptop', 0.9458898305892944),\n",
              " ('pc', 0.942133903503418),\n",
              " ('notepad', 0.9138541221618652),\n",
              " ('mailbox', 0.902761697769165),\n",
              " ('workstation', 0.8988693356513977),\n",
              " ('harddrive', 0.8768801093101501),\n",
              " ('paper', 0.8752428293228149),\n",
              " ('standby', 0.873042643070221),\n",
              " ('net', 0.8727045655250549),\n",
              " ('routine', 0.8712579011917114)]"
            ]
          },
          "metadata": {
            "tags": []
          },
          "execution_count": 39
        }
      ]
    },
    {
      "cell_type": "code",
      "metadata": {
        "id": "9dtbkWojTu9x",
        "colab_type": "code",
        "colab": {
          "base_uri": "https://localhost:8080/",
          "height": 34
        },
        "outputId": "2e4aff5d-483e-426f-c408-462eebd6a661"
      },
      "source": [
        "len(word2vec2.wv.vocab)"
      ],
      "execution_count": 40,
      "outputs": [
        {
          "output_type": "execute_result",
          "data": {
            "text/plain": [
              "955252"
            ]
          },
          "metadata": {
            "tags": []
          },
          "execution_count": 40
        }
      ]
    },
    {
      "cell_type": "code",
      "metadata": {
        "id": "NgKdUWpAUbHI",
        "colab_type": "code",
        "colab": {}
      },
      "source": [
        ""
      ],
      "execution_count": 0,
      "outputs": []
    }
  ]
}